{
 "cells": [
  {
   "cell_type": "code",
   "execution_count": 23,
   "id": "59b63215",
   "metadata": {},
   "outputs": [],
   "source": [
    "import numpy as np\n",
    "import pandas as pd\n",
    "from scipy import stats\n",
    "import seaborn as sns\n",
    "import matplotlib.pyplot as plt\n",
    "import matplotlib.font_manager as fm    # 한글폰트"
   ]
  },
  {
   "cell_type": "markdown",
   "id": "9054571e",
   "metadata": {},
   "source": [
    "# 파일 불러오기\n",
    "## 시간별 파일명: ad_hourly_df"
   ]
  },
  {
   "cell_type": "code",
   "execution_count": 24,
   "id": "8336fc8b",
   "metadata": {},
   "outputs": [],
   "source": [
    "# 시간별 파일 불러오기\n",
    "ad_hourly_df = pd.read_csv('IVE_시간별_적립_보고서.csv', encoding='utf-8-sig')"
   ]
  },
  {
   "cell_type": "markdown",
   "id": "2e1fba3b",
   "metadata": {},
   "source": [
    "# 전처리"
   ]
  },
  {
   "cell_type": "markdown",
   "id": "15e574d6",
   "metadata": {},
   "source": [
    "## 데이터 타입 변경"
   ]
  },
  {
   "cell_type": "code",
   "execution_count": 25,
   "id": "cf946a3a",
   "metadata": {},
   "outputs": [],
   "source": [
    "# 날짜 칼럼 object -> datetime64 로 데이터 타입 변경\n",
    "ad_hourly_df['rpt_time_date'] = pd.to_datetime(ad_hourly_df['rpt_time_date'])"
   ]
  },
  {
   "cell_type": "markdown",
   "id": "d0a3fa24",
   "metadata": {},
   "source": [
    "## 칼럼 제거\n",
    "### rpt_time_scost 칼럼 제거"
   ]
  },
  {
   "cell_type": "code",
   "execution_count": 26,
   "id": "aee5683b",
   "metadata": {},
   "outputs": [],
   "source": [
    "ad_hourly_df = ad_hourly_df.drop(columns=['rpt_time_scost'])"
   ]
  },
  {
   "cell_type": "markdown",
   "id": "cc13dceb",
   "metadata": {},
   "source": [
    "## 파생변수 생성\n",
    "### ads_idx + mda_idx 칼럼 생성"
   ]
  },
  {
   "cell_type": "code",
   "execution_count": 27,
   "id": "65812a60",
   "metadata": {},
   "outputs": [],
   "source": [
    "ad_hourly_df['mda_ads'] = '(m)'+ ad_hourly_df['mda_idx'].astype('string') + '_' + '(a)'+ ad_hourly_df['ads_idx'].astype('string')"
   ]
  },
  {
   "cell_type": "code",
   "execution_count": 28,
   "id": "47b87416",
   "metadata": {},
   "outputs": [
    {
     "data": {
      "application/vnd.microsoft.datawrangler.viewer.v0+json": {
       "columns": [
        {
         "name": "index",
         "rawType": "int64",
         "type": "integer"
        },
        {
         "name": "mda_ads",
         "rawType": "string",
         "type": "string"
        }
       ],
       "ref": "96d1a89e-230a-403b-9595-ad59c8976058",
       "rows": [
        [
         "0",
         "(m)398_(a)11059"
        ],
        [
         "1",
         "(m)583_(a)13209"
        ],
        [
         "2",
         "(m)303_(a)13928"
        ],
        [
         "3",
         "(m)324_(a)13928"
        ],
        [
         "4",
         "(m)340_(a)13928"
        ]
       ],
       "shape": {
        "columns": 1,
        "rows": 5
       }
      },
      "text/plain": [
       "0    (m)398_(a)11059\n",
       "1    (m)583_(a)13209\n",
       "2    (m)303_(a)13928\n",
       "3    (m)324_(a)13928\n",
       "4    (m)340_(a)13928\n",
       "Name: mda_ads, dtype: string"
      ]
     },
     "execution_count": 28,
     "metadata": {},
     "output_type": "execute_result"
    }
   ],
   "source": [
    "# 생성 칼럼확인\n",
    "ad_hourly_df['mda_ads'].head()"
   ]
  },
  {
   "cell_type": "code",
   "execution_count": 33,
   "id": "ff0f5dae",
   "metadata": {},
   "outputs": [
    {
     "data": {
      "text/plain": [
       "Index(['rpt_time_date', 'rpt_time_time', 'ads_idx', 'mda_idx', 'rpt_time_clk',\n",
       "       'rpt_time_turn', 'rpt_time_acost', 'rpt_time_cost', 'rpt_time_earn',\n",
       "       'mda_ads'],\n",
       "      dtype='object')"
      ]
     },
     "execution_count": 33,
     "metadata": {},
     "output_type": "execute_result"
    }
   ],
   "source": [
    "ad_hourly_df.columns"
   ]
  },
  {
   "cell_type": "markdown",
   "id": "3cc8739a",
   "metadata": {},
   "source": [
    "## 이상치 제거\n",
    "### 금액칼럼 중 1~4원 데이터 지우기 \n",
    "* 금액 칼럼: rpt_time_acost, rpt_time_cost, rpt_time_earn"
   ]
  },
  {
   "cell_type": "code",
   "execution_count": 36,
   "id": "a1d313fd",
   "metadata": {},
   "outputs": [],
   "source": [
    "cond = (\n",
    "    ad_hourly_df['rpt_time_acost'].between(1,4) |\n",
    "    ad_hourly_df['rpt_time_cost'].between(1,4) |\n",
    "    ad_hourly_df['rpt_time_earn'].between(1,4) \n",
    "    )\n",
    "\n",
    "ad_hourly_df = ad_hourly_df[~cond]"
   ]
  },
  {
   "cell_type": "code",
   "execution_count": 42,
   "id": "bfdfb751",
   "metadata": {},
   "outputs": [
    {
     "name": "stdout",
     "output_type": "stream",
     "text": [
      "제거된 행 수:  4016 개\n",
      "남은 행 수:  275900 개\n"
     ]
    }
   ],
   "source": [
    "# 제거 확인\n",
    "removed = cond.sum()           # True 개수 = 제거된 행 수\n",
    "remaining = len(ad_hourly_df)  # 남은 행 수 (대입 후)\n",
    "print(\"제거된 행 수: \" ,removed, \"개\")\n",
    "print(\"남은 행 수: \" ,remaining, \"개\")\n"
   ]
  },
  {
   "cell_type": "code",
   "execution_count": null,
   "id": "4ed673a4",
   "metadata": {},
   "outputs": [],
   "source": []
  },
  {
   "cell_type": "code",
   "execution_count": null,
   "id": "ebe64df3",
   "metadata": {},
   "outputs": [],
   "source": []
  }
 ],
 "metadata": {
  "kernelspec": {
   "display_name": "Python 3",
   "language": "python",
   "name": "python3"
  },
  "language_info": {
   "codemirror_mode": {
    "name": "ipython",
    "version": 3
   },
   "file_extension": ".py",
   "mimetype": "text/x-python",
   "name": "python",
   "nbconvert_exporter": "python",
   "pygments_lexer": "ipython3",
   "version": "3.13.3"
  }
 },
 "nbformat": 4,
 "nbformat_minor": 5
}
