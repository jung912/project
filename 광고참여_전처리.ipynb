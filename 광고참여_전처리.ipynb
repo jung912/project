{
 "cells": [
  {
   "cell_type": "code",
   "execution_count": 14,
   "id": "3abfc0b2",
   "metadata": {},
   "outputs": [
    {
     "name": "stdout",
     "output_type": "stream",
     "text": [
      "(16854865, 17)\n"
     ]
    }
   ],
   "source": [
    "import pandas as pd\n",
    "import glob\n",
    "\n",
    "# 폴더 경로 안의 csv 파일 전부 가져오기\n",
    "files = glob.glob(\"/Users/t2023-m0090/Downloads/아이브_참여데이터_분리/*.csv\")   \n",
    "\n",
    "dfs = [pd.read_csv(f) for f in files]\n",
    "df = pd.concat(dfs, ignore_index=True)\n",
    "\n",
    "print(df.shape)\n"
   ]
  },
  {
   "cell_type": "markdown",
   "id": "ff6c5294",
   "metadata": {},
   "source": [
    "## 활용하지 않는 컬럼 삭제"
   ]
  },
  {
   "cell_type": "code",
   "execution_count": 15,
   "id": "7789e564",
   "metadata": {},
   "outputs": [],
   "source": [
    "df = df.drop(columns=['pub_sub_rel_id', 'network', 'carrier', 'reward_point'])"
   ]
  },
  {
   "cell_type": "markdown",
   "id": "09fb15db",
   "metadata": {},
   "source": [
    "## click_day, click_date, exp_day -> datetime으로 변경"
   ]
  },
  {
   "cell_type": "code",
   "execution_count": 16,
   "id": "2b5e9041",
   "metadata": {},
   "outputs": [],
   "source": [
    "df[\"click_day\"] = pd.to_datetime(df[\"click_day\"], errors=\"coerce\")\n",
    "df[\"click_date\"] = pd.to_datetime(df[\"click_date\"], errors=\"coerce\")\n",
    "df[\"exp_day\"] = pd.to_datetime(df[\"exp_day\"], errors=\"coerce\")"
   ]
  },
  {
   "cell_type": "markdown",
   "id": "bd58b26c",
   "metadata": {},
   "source": [
    "## user_ip -> null인경우 '-1'으로 설정"
   ]
  },
  {
   "cell_type": "code",
   "execution_count": 18,
   "id": "a7736575",
   "metadata": {},
   "outputs": [],
   "source": [
    "df['user_ip'] = df['user_ip'].fillna(-1)"
   ]
  },
  {
   "cell_type": "markdown",
   "id": "8ea63dcd",
   "metadata": {},
   "source": [
    "## adv_price, contract_price -> 1~4원 삭제"
   ]
  },
  {
   "cell_type": "code",
   "execution_count": 25,
   "id": "7ebbd90b",
   "metadata": {},
   "outputs": [],
   "source": [
    "df = df[~(\n",
    "    (df['adv_price'].between(1, 4)) | \n",
    "    (df['contract_price'].between(1, 4))\n",
    ")]"
   ]
  }
 ],
 "metadata": {
  "kernelspec": {
   "display_name": "3.13.0",
   "language": "python",
   "name": "python3"
  },
  "language_info": {
   "codemirror_mode": {
    "name": "ipython",
    "version": 3
   },
   "file_extension": ".py",
   "mimetype": "text/x-python",
   "name": "python",
   "nbconvert_exporter": "python",
   "pygments_lexer": "ipython3",
   "version": "3.13.0"
  }
 },
 "nbformat": 4,
 "nbformat_minor": 5
}
